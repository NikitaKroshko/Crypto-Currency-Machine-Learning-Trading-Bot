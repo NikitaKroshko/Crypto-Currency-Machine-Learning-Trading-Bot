{
 "cells": [
  {
   "cell_type": "markdown",
   "id": "884c5cb1-19b2-4562-8b83-6e019cccc623",
   "metadata": {},
   "source": [
    "# Add all the necessary imports"
   ]
  },
  {
   "cell_type": "code",
   "execution_count": 6,
   "id": "e4d480ae-966b-442e-a3ab-440eef28c771",
   "metadata": {},
   "outputs": [
    {
     "name": "stdout",
     "output_type": "stream",
     "text": [
      "############\n",
      "Displaying data\n",
      "[]\n",
      "############\n",
      "Displaying analyzed data\n",
      "None\n",
      "############\n",
      "Displaying mean\n"
     ]
    },
    {
     "ename": "ValueError",
     "evalue": "DataFrame is not populated.",
     "output_type": "error",
     "traceback": [
      "\u001b[0;31m---------------------------------------------------------------------------\u001b[0m",
      "\u001b[0;31mValueError\u001b[0m                                Traceback (most recent call last)",
      "Cell \u001b[0;32mIn[6], line 3\u001b[0m\n\u001b[1;32m      1\u001b[0m \u001b[38;5;66;03m# Add the imports of the code\u001b[39;00m\n\u001b[1;32m      2\u001b[0m \u001b[38;5;66;03m# Imports written within the repo\u001b[39;00m\n\u001b[0;32m----> 3\u001b[0m \u001b[38;5;28;01mimport\u001b[39;00m \u001b[38;5;21;01mmain\u001b[39;00m\n\u001b[1;32m      4\u001b[0m \u001b[38;5;28;01mimport\u001b[39;00m \u001b[38;5;21;01mdata\u001b[39;00m\n\u001b[1;32m      5\u001b[0m \u001b[38;5;28;01mimport\u001b[39;00m \u001b[38;5;21;01manalyze\u001b[39;00m\n",
      "File \u001b[0;32m~/git_personal/Crypto-Currency-Machine-Learning-Trading-Bot/main.py:4\u001b[0m\n\u001b[1;32m      2\u001b[0m \u001b[38;5;28;01mimport\u001b[39;00m \u001b[38;5;21;01mdata\u001b[39;00m\n\u001b[1;32m      3\u001b[0m \u001b[38;5;28;01mimport\u001b[39;00m \u001b[38;5;21;01manalyze\u001b[39;00m\n\u001b[0;32m----> 4\u001b[0m \u001b[38;5;28;01mimport\u001b[39;00m \u001b[38;5;21;01mdisplay\u001b[39;00m\n\u001b[1;32m      5\u001b[0m \u001b[38;5;28;01mimport\u001b[39;00m \u001b[38;5;21;01mtime\u001b[39;00m\n\u001b[1;32m      7\u001b[0m \u001b[38;5;28;01mdef\u001b[39;00m \u001b[38;5;21msave_data\u001b[39m(tickers, filename, duration \u001b[38;5;241m=\u001b[39m \u001b[38;5;241m1\u001b[39m):\n\u001b[1;32m      8\u001b[0m     \u001b[38;5;66;03m# Takes as an input tickers in a list, filename as a string, and durtaion as an int\u001b[39;00m\n\u001b[1;32m      9\u001b[0m     \u001b[38;5;66;03m# Runs the ticker data collection for duration minutes\u001b[39;00m\n\u001b[1;32m     10\u001b[0m     \u001b[38;5;66;03m# Saves it to the filename file\u001b[39;00m\n",
      "File \u001b[0;32m~/git_personal/Crypto-Currency-Machine-Learning-Trading-Bot/display.py:46\u001b[0m\n\u001b[1;32m     43\u001b[0m     \u001b[38;5;28mprint\u001b[39m(\u001b[38;5;124m\"\u001b[39m\u001b[38;5;124m############\u001b[39m\u001b[38;5;124m\"\u001b[39m)\n\u001b[1;32m     45\u001b[0m \u001b[38;5;66;03m# Run the main function to display btc usdt data\u001b[39;00m\n\u001b[0;32m---> 46\u001b[0m \u001b[43mmain\u001b[49m\u001b[43m(\u001b[49m\u001b[43m)\u001b[49m\n",
      "File \u001b[0;32m~/git_personal/Crypto-Currency-Machine-Learning-Trading-Bot/display.py:36\u001b[0m, in \u001b[0;36mmain\u001b[0;34m()\u001b[0m\n\u001b[1;32m     34\u001b[0m \u001b[38;5;28mprint\u001b[39m(\u001b[38;5;124m\"\u001b[39m\u001b[38;5;124m############\u001b[39m\u001b[38;5;124m\"\u001b[39m)\n\u001b[1;32m     35\u001b[0m \u001b[38;5;28mprint\u001b[39m(\u001b[38;5;124m\"\u001b[39m\u001b[38;5;124mDisplaying mean\u001b[39m\u001b[38;5;124m\"\u001b[39m)\n\u001b[0;32m---> 36\u001b[0m \u001b[43mdisplay_mean\u001b[49m\u001b[43m(\u001b[49m\u001b[38;5;124;43m\"\u001b[39;49m\u001b[38;5;124;43mprice\u001b[39;49m\u001b[38;5;124;43m\"\u001b[39;49m\u001b[43m,\u001b[49m\u001b[43m \u001b[49m\u001b[38;5;124;43m\"\u001b[39;49m\u001b[38;5;124;43mBTCUSDT\u001b[39;49m\u001b[38;5;124;43m\"\u001b[39;49m\u001b[43m)\u001b[49m\n\u001b[1;32m     37\u001b[0m \u001b[38;5;28mprint\u001b[39m(\u001b[38;5;124m\"\u001b[39m\u001b[38;5;124m############\u001b[39m\u001b[38;5;124m\"\u001b[39m)\n\u001b[1;32m     38\u001b[0m \u001b[38;5;28mprint\u001b[39m(\u001b[38;5;124m\"\u001b[39m\u001b[38;5;124mDisplaying mode\u001b[39m\u001b[38;5;124m\"\u001b[39m)\n",
      "File \u001b[0;32m~/git_personal/Crypto-Currency-Machine-Learning-Trading-Bot/display.py:16\u001b[0m, in \u001b[0;36mdisplay_mean\u001b[0;34m(column, ticker)\u001b[0m\n\u001b[1;32m     14\u001b[0m \u001b[38;5;28;01mdef\u001b[39;00m \u001b[38;5;21mdisplay_mean\u001b[39m(column, ticker):\n\u001b[1;32m     15\u001b[0m     \u001b[38;5;66;03m# Basic print out of the mean of the column for the ticker\u001b[39;00m\n\u001b[0;32m---> 16\u001b[0m     \u001b[38;5;28mprint\u001b[39m(\u001b[43manalyze\u001b[49m\u001b[38;5;241;43m.\u001b[39;49m\u001b[43mmean\u001b[49m\u001b[43m(\u001b[49m\u001b[43mcolumn\u001b[49m\u001b[43m,\u001b[49m\u001b[43m \u001b[49m\u001b[43mticker\u001b[49m\u001b[43m)\u001b[49m)\n",
      "File \u001b[0;32m~/git_personal/Crypto-Currency-Machine-Learning-Trading-Bot/analyze.py:41\u001b[0m, in \u001b[0;36mmean\u001b[0;34m(column_name, ticker_symbol)\u001b[0m\n\u001b[1;32m     39\u001b[0m \u001b[38;5;28;01mglobal\u001b[39;00m df\n\u001b[1;32m     40\u001b[0m \u001b[38;5;28;01mif\u001b[39;00m df \u001b[38;5;129;01mis\u001b[39;00m \u001b[38;5;28;01mNone\u001b[39;00m:\n\u001b[0;32m---> 41\u001b[0m     \u001b[38;5;28;01mraise\u001b[39;00m \u001b[38;5;167;01mValueError\u001b[39;00m(\u001b[38;5;124m\"\u001b[39m\u001b[38;5;124mDataFrame is not populated.\u001b[39m\u001b[38;5;124m\"\u001b[39m)\n\u001b[1;32m     42\u001b[0m \u001b[38;5;28;01mreturn\u001b[39;00m df[df[\u001b[38;5;124m'\u001b[39m\u001b[38;5;124mticker\u001b[39m\u001b[38;5;124m'\u001b[39m] \u001b[38;5;241m==\u001b[39m ticker_symbol][column_name]\u001b[38;5;241m.\u001b[39mmean()\n",
      "\u001b[0;31mValueError\u001b[0m: DataFrame is not populated."
     ]
    }
   ],
   "source": [
    "# Add the imports of the code\n",
    "# Imports written within the repo\n",
    "import main\n",
    "import data\n",
    "import analyze\n",
    "import display\n",
    "# External imports\n",
    "import pandas as pd\n",
    "import time\n",
    "import threading"
   ]
  },
  {
   "cell_type": "markdown",
   "id": "08988e1e-9746-47bb-9612-55095892eede",
   "metadata": {},
   "source": [
    "### Below is the in depth explanation of what this project is and its main purpose"
   ]
  },
  {
   "cell_type": "markdown",
   "id": "631e1e6a-759d-423f-b8c3-e9ce6b28e80f",
   "metadata": {},
   "source": [
    "# This is a file describing how to use this project\n",
    "\n",
    "## About\n",
    "\n",
    "This project is a cryptocurrency trading system that leverages machine learning algorithms to analyze market data and make informed trading decisions. The system uses various ML techniques to identify patterns in cryptocurrency price movements, volume trends, and other market indicators to predict optimal buy and sell opportunities.\n",
    "\n",
    "Key features include:\n",
    "- Real-time market data analysis\n",
    "- Multiple machine learning models for price prediction\n",
    "- Automated trading execution\n",
    "- Risk management and portfolio optimization\n",
    "- Backtesting capabilities for strategy validation\n",
    "\n",
    "The goal is to create a robust, data-driven approach to cryptocurrency trading that can adapt to changing market conditions and maximize returns while minimizing risk.\n"
   ]
  },
  {
   "cell_type": "markdown",
   "id": "f03d3a82-3554-4ed5-b1dd-1811973b3f9f",
   "metadata": {},
   "source": [
    "# Below is the box for running the data collection"
   ]
  },
  {
   "cell_type": "code",
   "execution_count": null,
   "id": "4ac0cf85-993c-4a3c-83ac-12abaec767f7",
   "metadata": {},
   "outputs": [],
   "source": [
    "main.save_data(\"BTCUSDT\", \"new.txt.\")"
   ]
  },
  {
   "cell_type": "code",
   "execution_count": null,
   "id": "a66f7fa0-420f-470a-9e14-1014ba5c441e",
   "metadata": {},
   "outputs": [],
   "source": []
  }
 ],
 "metadata": {
  "kernelspec": {
   "display_name": "Python 3 (ipykernel)",
   "language": "python",
   "name": "python3"
  },
  "language_info": {
   "codemirror_mode": {
    "name": "ipython",
    "version": 3
   },
   "file_extension": ".py",
   "mimetype": "text/x-python",
   "name": "python",
   "nbconvert_exporter": "python",
   "pygments_lexer": "ipython3",
   "version": "3.12.0"
  }
 },
 "nbformat": 4,
 "nbformat_minor": 5
}
