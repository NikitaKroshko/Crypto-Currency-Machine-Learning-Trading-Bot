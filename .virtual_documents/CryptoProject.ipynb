


# Add the imports of the code
import data
import analyze
import display
import main
import pandas as pd
import time
import threading
