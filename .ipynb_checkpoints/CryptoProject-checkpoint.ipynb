{
 "cells": [
  {
   "cell_type": "markdown",
   "id": "884c5cb1-19b2-4562-8b83-6e019cccc623",
   "metadata": {},
   "source": [
    "# Add all the necessary imports"
   ]
  },
  {
   "cell_type": "code",
   "execution_count": null,
   "id": "e4d480ae-966b-442e-a3ab-440eef28c771",
   "metadata": {},
   "outputs": [],
   "source": [
    "# Add the imports of the code\n",
    "# Imports written within the repo\n",
    "import data\n",
    "import analyze\n",
    "import display\n",
    "import main\n",
    "# External imports\n",
    "import pandas as pd\n",
    "import time\n",
    "import threading"
   ]
  },
  {
   "cell_type": "code",
   "execution_count": null,
   "id": "cabcef62-11a5-48d0-9278-751b546dea9f",
   "metadata": {},
   "outputs": [],
   "source": []
  }
 ],
 "metadata": {
  "kernelspec": {
   "display_name": "Python 3 (ipykernel)",
   "language": "python",
   "name": "python3"
  },
  "language_info": {
   "codemirror_mode": {
    "name": "ipython",
    "version": 3
   },
   "file_extension": ".py",
   "mimetype": "text/x-python",
   "name": "python",
   "nbconvert_exporter": "python",
   "pygments_lexer": "ipython3",
   "version": "3.12.0"
  }
 },
 "nbformat": 4,
 "nbformat_minor": 5
}
