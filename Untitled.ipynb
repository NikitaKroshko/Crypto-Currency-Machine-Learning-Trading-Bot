{
 "cells": [
  {
   "cell_type": "code",
   "execution_count": null,
   "id": "e4d480ae-966b-442e-a3ab-440eef28c771",
   "metadata": {},
   "outputs": [],
   "source": []
  }
 ],
 "metadata": {
  "kernelspec": {
   "display_name": "",
   "name": ""
  },
  "language_info": {
   "name": ""
  }
 },
 "nbformat": 4,
 "nbformat_minor": 5
}
